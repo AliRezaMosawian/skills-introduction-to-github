{
 "cells": [
  {
   "cell_type": "code",
   "execution_count": 4,
   "id": "4e9edf53-89c9-4d0c-8fe1-04bcf4230771",
   "metadata": {},
   "outputs": [
    {
     "name": "stdin",
     "output_type": "stream",
     "text": [
      "عدد اول را وارد کنید:  1\n",
      "عدد دوم را وارد کنید:  2\n"
     ]
    },
    {
     "name": "stdout",
     "output_type": "stream",
     "text": [
      "جمع دو عدد = 3\n"
     ]
    }
   ],
   "source": [
    "a = int(input(\"عدد اول را وارد کنید: \"))\n",
    "b = int(input(\"عدد دوم را وارد کنید: \"))\n",
    "print(\"جمع دو عدد =\", a + b)"
   ]
  },
  {
   "cell_type": "code",
   "execution_count": null,
   "id": "c95af792-917d-4b6d-82fe-d25a31de4e94",
   "metadata": {},
   "outputs": [],
   "source": []
  }
 ],
 "metadata": {
  "kernelspec": {
   "display_name": "Python 3 (ipykernel)",
   "language": "python",
   "name": "python3"
  },
  "language_info": {
   "codemirror_mode": {
    "name": "ipython",
    "version": 3
   },
   "file_extension": ".py",
   "mimetype": "text/x-python",
   "name": "python",
   "nbconvert_exporter": "python",
   "pygments_lexer": "ipython3",
   "version": "3.13.2"
  }
 },
 "nbformat": 4,
 "nbformat_minor": 5
}
